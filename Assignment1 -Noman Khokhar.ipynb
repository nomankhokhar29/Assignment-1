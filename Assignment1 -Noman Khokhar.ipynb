{
 "cells": [
  {
   "cell_type": "code",
   "execution_count": 1,
   "id": "979a5230",
   "metadata": {},
   "outputs": [
    {
     "name": "stdout",
     "output_type": "stream",
     "text": [
      "Twinkle, twinkle, little star,\n",
      "         How I wonder what you are!\n",
      "                 Up above the world so high,\n",
      "                 Like a diamond in the sky.\n",
      "Twinkle, twinkle, little star,\n",
      "         How I wonder what you are!\n"
     ]
    }
   ],
   "source": [
    "print(\"Twinkle, twinkle, little star,\");\n",
    "print(\"         How I wonder what you are!\");\n",
    "print(\"                 Up above the world so high,\");\n",
    "print(\"                 Like a diamond in the sky.\");\n",
    "print(\"Twinkle, twinkle, little star,\");\n",
    "print(\"         How I wonder what you are!\");"
   ]
  },
  {
   "cell_type": "code",
   "execution_count": 2,
   "id": "53f0896c",
   "metadata": {},
   "outputs": [
    {
     "name": "stdout",
     "output_type": "stream",
     "text": [
      "The python version we use: 3.9.7\n"
     ]
    }
   ],
   "source": [
    "from platform import python_version\n",
    "print(\"The python version we use: \" + python_version());"
   ]
  },
  {
   "cell_type": "code",
   "execution_count": 3,
   "id": "aeff255f",
   "metadata": {},
   "outputs": [
    {
     "name": "stdout",
     "output_type": "stream",
     "text": [
      "Current date and time : 2021-12-31 19:42:04\n"
     ]
    }
   ],
   "source": [
    "import datetime\n",
    "now = datetime.datetime.now();\n",
    "print (\"Current date and time : \" + now.strftime(\"%Y-%m-%d %H:%M:%S\"));"
   ]
  },
  {
   "cell_type": "code",
   "execution_count": 7,
   "id": "ef12f47f",
   "metadata": {},
   "outputs": [
    {
     "name": "stdout",
     "output_type": "stream",
     "text": [
      "Enter the value of radius of a cirle?20\n",
      "Area of a circle 1256.0\n"
     ]
    }
   ],
   "source": [
    "pi = 3.14;\n",
    "r = float(input(\"Enter the value of radius of a cirle?\"));\n",
    "a = pi * r * r;\n",
    "print(\"Area of a circle \" + str(a));"
   ]
  },
  {
   "cell_type": "code",
   "execution_count": 8,
   "id": "56ab23c2",
   "metadata": {},
   "outputs": [
    {
     "name": "stdout",
     "output_type": "stream",
     "text": [
      "Enter your first name?arisha\n",
      "Enter your last name?khokhar\n",
      "khokhar arisha\n"
     ]
    }
   ],
   "source": [
    "first_name = input(\"Enter your first name?\");\n",
    "last_name = input(\"Enter your last name?\");\n",
    "print(last_name + \" \" + first_name);"
   ]
  },
  {
   "cell_type": "code",
   "execution_count": 11,
   "id": "df3e0dab",
   "metadata": {},
   "outputs": [
    {
     "name": "stdout",
     "output_type": "stream",
     "text": [
      "Enter the first value?20\n",
      "Enter the second value20\n",
      "Final result : 40\n"
     ]
    }
   ],
   "source": [
    "num1 = input(\"Enter the first value?\");\n",
    "num2 = input(\"Enter the second value?\");\n",
    "result = int(num1) + int(num2);\n",
    "print(\"Final result : \" + str(result));"
   ]
  },
  {
   "cell_type": "code",
   "execution_count": null,
   "id": "7fad2eaa",
   "metadata": {},
   "outputs": [],
   "source": []
  }
 ],
 "metadata": {
  "kernelspec": {
   "display_name": "Python 3 (ipykernel)",
   "language": "python",
   "name": "python3"
  },
  "language_info": {
   "codemirror_mode": {
    "name": "ipython",
    "version": 3
   },
   "file_extension": ".py",
   "mimetype": "text/x-python",
   "name": "python",
   "nbconvert_exporter": "python",
   "pygments_lexer": "ipython3",
   "version": "3.9.7"
  }
 },
 "nbformat": 4,
 "nbformat_minor": 5
}
